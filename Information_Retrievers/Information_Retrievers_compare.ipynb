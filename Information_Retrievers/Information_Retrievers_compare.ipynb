{
  "cells": [
    {
      "cell_type": "markdown",
      "metadata": {
        "id": "6BPNr3FrYe8x"
      },
      "source": [
        "## Evaluate different embedding models (for Information Retrieval) from:\n",
        "\n",
        "https://www.sbert.net/docs/sentence_transformer/pretrained_models.html\n",
        "\n"
      ]
    },
    {
      "cell_type": "code",
      "execution_count": 1,
      "metadata": {
        "colab": {
          "base_uri": "https://localhost:8080/"
        },
        "id": "iw34HgIfEm5u",
        "outputId": "42042521-90b0-4660-bb1e-8b542ef514c2"
      },
      "outputs": [
        {
          "output_type": "stream",
          "name": "stdout",
          "text": [
            "Drive already mounted at /content/drive; to attempt to forcibly remount, call drive.mount(\"/content/drive\", force_remount=True).\n"
          ]
        }
      ],
      "source": [
        "# import project from google drive\n",
        "from google.colab import drive\n",
        "drive.mount('/content/drive')"
      ]
    },
    {
      "cell_type": "code",
      "execution_count": 2,
      "metadata": {
        "id": "-p4LbduVEwZJ"
      },
      "outputs": [],
      "source": [
        "# provide project root path\n",
        "ProjectRoot = \"/content/drive/MyDrive/UMich Capstone/NoteBooks/\"\n",
        "DatasetRoot = ProjectRoot + \"Dataset/\""
      ]
    },
    {
      "cell_type": "markdown",
      "metadata": {
        "id": "do60TanbFQaw"
      },
      "source": [
        "#### Dependencies"
      ]
    },
    {
      "cell_type": "code",
      "execution_count": 3,
      "metadata": {
        "colab": {
          "base_uri": "https://localhost:8080/"
        },
        "id": "lKUtea_Se7IS",
        "outputId": "16bfeddc-1bf9-41d9-9dfe-70bc19951e77"
      },
      "outputs": [
        {
          "output_type": "stream",
          "name": "stderr",
          "text": [
            "/usr/local/lib/python3.10/dist-packages/sentence_transformers/cross_encoder/CrossEncoder.py:11: TqdmExperimentalWarning: Using `tqdm.autonotebook.tqdm` in notebook mode. Use `tqdm.tqdm` instead to force console mode (e.g. in jupyter console)\n",
            "  from tqdm.autonotebook import tqdm, trange\n"
          ]
        }
      ],
      "source": [
        "try:\n",
        "    import chromadb\n",
        "except ImportError:\n",
        "    !pip install chromadb\n",
        "\n",
        "try:\n",
        "    import sentence_transformers\n",
        "except ImportError:\n",
        "    !pip install -U sentence-transformers\n",
        "\n",
        "try:\n",
        "    import rank_bm25\n",
        "except ImportError:\n",
        "    !pip install rank_bm25"
      ]
    },
    {
      "cell_type": "code",
      "execution_count": 4,
      "metadata": {
        "id": "vMn3kQZ6Y1R0"
      },
      "outputs": [],
      "source": [
        "import chromadb\n",
        "from sentence_transformers import SentenceTransformer\n",
        "# misc\n",
        "import json\n",
        "import regex as re\n",
        "import numpy as np\n",
        "import pandas as pd\n",
        "# viz\n",
        "import matplotlib.pyplot as plt\n",
        "import seaborn as sns"
      ]
    },
    {
      "cell_type": "code",
      "execution_count": 5,
      "metadata": {
        "id": "2AJqbHd5E7p6"
      },
      "outputs": [],
      "source": [
        "# loading full article from json file\n",
        "with open(DatasetRoot + 'raw_knowledge.json', 'r') as f:\n",
        "    raw_text_json = json.load(f)\n",
        "raw_text_list = [text for _, text in raw_text_json.items()]\n",
        "# unique id per doc\n",
        "raw_text_ids = [idx for idx, _ in raw_text_json.items()]"
      ]
    },
    {
      "cell_type": "code",
      "execution_count": 6,
      "metadata": {
        "id": "jwJqD9ZR4u-0"
      },
      "outputs": [],
      "source": [
        "# load context-question train set which was created by doc2query\n",
        "train_df = pd.read_csv(DatasetRoot + '/q_a_trainset.csv')"
      ]
    },
    {
      "cell_type": "code",
      "execution_count": 7,
      "metadata": {
        "id": "ucK9WM0KZi7A"
      },
      "outputs": [],
      "source": [
        "# dataframe holding metrics for different embeddings\n",
        "embeddings_metrics_df = pd.DataFrame(columns=['Embedding', 'Precision', 'Recall', 'MRR'])"
      ]
    },
    {
      "cell_type": "code",
      "execution_count": 8,
      "metadata": {
        "id": "s4283ANWpRlH"
      },
      "outputs": [],
      "source": [
        "# calculate Retrieval Precision, Recall, MRR\n",
        "def evaluate_retrieval(embed_model, retriever, eval_dataset, top_n=3):\n",
        "    precision_at_k = []\n",
        "    recall_at_k = []\n",
        "    mrr = []\n",
        "\n",
        "    for _, eval_data in eval_dataset.iterrows():\n",
        "\n",
        "        # get query and raw paragraph ID from where question was generated.\n",
        "        # This paragraph will be treated as ground truth doc\n",
        "        raw_para_id = eval_data['raw_para_id']\n",
        "        query = eval_data['question']\n",
        "\n",
        "        # embed query into vector\n",
        "        query_embedding = embed_model.encode(query).tolist()\n",
        "        # search most relevant docs\n",
        "        retrieved_docs = retriever.query(query_embeddings=query_embedding, n_results=top_n)\n",
        "        doc_indices = [int(idx) for idx in retrieved_docs['ids'][0]]\n",
        "\n",
        "        relevant_docs = set([raw_para_id])\n",
        "        retrieved_docs = set(doc_indices)\n",
        "\n",
        "        hits = relevant_docs & retrieved_docs\n",
        "\n",
        "        # calculate precision, recall\n",
        "        precision = len(hits) / len(retrieved_docs)\n",
        "        recall = len(hits) / len(relevant_docs)\n",
        "\n",
        "        precision_at_k.append(precision)\n",
        "        recall_at_k.append(recall)\n",
        "\n",
        "        # calculate MRR\n",
        "        reciprocal_rank = 0.0\n",
        "        for rank, doc_index in enumerate(doc_indices, start=1):\n",
        "            if doc_index in relevant_docs:\n",
        "                reciprocal_rank = 1.0 / rank\n",
        "                break\n",
        "        mrr.append(reciprocal_rank)\n",
        "\n",
        "    avg_precision = np.mean(precision_at_k)\n",
        "    avg_recall = np.mean(recall_at_k)\n",
        "    avg_mrr = np.mean(mrr)\n",
        "\n",
        "    return avg_precision, avg_recall, avg_mrr"
      ]
    },
    {
      "cell_type": "markdown",
      "metadata": {
        "id": "fS4JdPLpg1bT"
      },
      "source": [
        "### Eval BM25 baseline\n",
        "\n",
        "https://pypi.org/project/rank-bm25/"
      ]
    },
    {
      "cell_type": "code",
      "execution_count": 9,
      "metadata": {
        "id": "qCr25L7XiKOo"
      },
      "outputs": [],
      "source": [
        "from rank_bm25 import BM25Okapi"
      ]
    },
    {
      "cell_type": "code",
      "execution_count": 10,
      "metadata": {
        "id": "4lthkl_Nh7U-"
      },
      "outputs": [],
      "source": [
        "model_name = 'BM25'\n",
        "\n",
        "tokenized_corpus = [doc.split(\" \") for doc in raw_text_list]  # Tokenize raw documents\n",
        "bm25_retriever = BM25Okapi(tokenized_corpus)"
      ]
    },
    {
      "cell_type": "code",
      "execution_count": 11,
      "metadata": {
        "id": "GTma3Hdsii32"
      },
      "outputs": [],
      "source": [
        "def evaluate_retrieval_bm25(bm25, eval_dataset, top_n=3):\n",
        "    precision_at_k = []\n",
        "    recall_at_k = []\n",
        "    mrr = []\n",
        "\n",
        "    for _, eval_data in eval_dataset.iterrows():\n",
        "\n",
        "        # get query and raw paragraph ID from where question was generated.\n",
        "        # This paragraph will be treated as ground truth doc\n",
        "        raw_para_id = eval_data['raw_para_id']\n",
        "        query = eval_data['question']\n",
        "\n",
        "        # search most relevant docs\n",
        "        scores = bm25.get_scores(query)\n",
        "        sorted_doc_indices = np.argsort(-scores)[:top_n]\n",
        "\n",
        "        relevant_docs = set([raw_para_id])\n",
        "        retrieved_docs = set(sorted_doc_indices)\n",
        "\n",
        "        hits = relevant_docs & retrieved_docs\n",
        "\n",
        "        # calculate precision, recall\n",
        "        precision = len(hits) / len(retrieved_docs)\n",
        "        recall = len(hits) / len(relevant_docs)\n",
        "\n",
        "        precision_at_k.append(precision)\n",
        "        recall_at_k.append(recall)\n",
        "\n",
        "        # calculate MRR\n",
        "        reciprocal_rank = 0.0\n",
        "        for rank, doc_index in enumerate(sorted_doc_indices, start=1):\n",
        "            if doc_index in relevant_docs:\n",
        "                reciprocal_rank = 1.0 / rank\n",
        "                break\n",
        "        mrr.append(reciprocal_rank)\n",
        "\n",
        "    avg_precision = np.mean(precision_at_k)\n",
        "    avg_recall = np.mean(recall_at_k)\n",
        "    avg_mrr = np.mean(mrr)\n",
        "\n",
        "    return avg_precision, avg_recall, avg_mrr"
      ]
    },
    {
      "cell_type": "code",
      "execution_count": 12,
      "metadata": {
        "colab": {
          "base_uri": "https://localhost:8080/"
        },
        "id": "-Kq1zRI5g1bV",
        "outputId": "2415bbf0-477e-46af-8e66-4c5ca48093a3"
      },
      "outputs": [
        {
          "output_type": "stream",
          "name": "stdout",
          "text": [
            "Precision: 0.0451, Recall: 0.1354, MRR: 0.0799\n"
          ]
        },
        {
          "output_type": "stream",
          "name": "stderr",
          "text": [
            "<ipython-input-12-a62ae402c8b8>:13: FutureWarning: The behavior of DataFrame concatenation with empty or all-NA entries is deprecated. In a future version, this will no longer exclude empty or all-NA columns when determining the result dtypes. To retain the old behavior, exclude the relevant entries before the concat operation.\n",
            "  embeddings_metrics_df = pd.concat([embeddings_metrics_df, new_row], ignore_index=True)\n"
          ]
        }
      ],
      "source": [
        "# calculate precision, recall, mrr\n",
        "precision, recall, mrr = evaluate_retrieval_bm25(bm25_retriever, train_df[['raw_para_id', 'question']])\n",
        "\n",
        "print(f\"Precision: {precision:.4f}, Recall: {recall:.4f}, MRR: {mrr:.4f}\")\n",
        "\n",
        "# record results\n",
        "new_row = pd.DataFrame({\n",
        "    'Embedding': [model_name],\n",
        "    'Precision': [precision],\n",
        "    'Recall': [recall],\n",
        "    'MRR': [mrr]\n",
        "})\n",
        "embeddings_metrics_df = pd.concat([embeddings_metrics_df, new_row], ignore_index=True)\n"
      ]
    },
    {
      "cell_type": "markdown",
      "metadata": {
        "id": "OfYI3ZBl-TQo"
      },
      "source": [
        "### Eval sentence-transformers/all-mpnet-base-v2 Embedding\n",
        "\n",
        "https://huggingface.co/sentence-transformers/all-mpnet-base-v2"
      ]
    },
    {
      "cell_type": "code",
      "execution_count": 13,
      "metadata": {
        "colab": {
          "base_uri": "https://localhost:8080/"
        },
        "id": "k9M3Bg-M-WP2",
        "outputId": "539e28ec-111d-470c-94e3-f69d84ef271b"
      },
      "outputs": [
        {
          "output_type": "stream",
          "name": "stderr",
          "text": [
            "/usr/local/lib/python3.10/dist-packages/huggingface_hub/utils/_token.py:89: UserWarning: \n",
            "The secret `HF_TOKEN` does not exist in your Colab secrets.\n",
            "To authenticate with the Hugging Face Hub, create a token in your settings tab (https://huggingface.co/settings/tokens), set it as secret in your Google Colab and restart your session.\n",
            "You will be able to reuse this secret in all of your notebooks.\n",
            "Please note that authentication is recommended but still optional to access public models or datasets.\n",
            "  warnings.warn(\n"
          ]
        }
      ],
      "source": [
        "# import embeddings\n",
        "model_name = 'sentence-transformers/all-mpnet-base-v2'\n",
        "st_allmpnetbase_model = SentenceTransformer(model_name)\n",
        "\n",
        "raw_text_embeddings = [st_allmpnetbase_model.encode(text).tolist() for text in raw_text_list]"
      ]
    },
    {
      "cell_type": "code",
      "execution_count": 14,
      "metadata": {
        "id": "_ZRngV1FEzas"
      },
      "outputs": [],
      "source": [
        "# setup Chroma in-memory\n",
        "client = chromadb.Client()\n",
        "\n",
        "Retriever_st_allmpnetbase = client.create_collection(\"knowledge-store-st_allmpnetbase\")\n",
        "# Add docs to the knowledge store\n",
        "Retriever_st_allmpnetbase.add(\n",
        "    embeddings = raw_text_embeddings,\n",
        "    documents = raw_text_list,\n",
        "    ids=raw_text_ids\n",
        ")"
      ]
    },
    {
      "cell_type": "code",
      "execution_count": 15,
      "metadata": {
        "colab": {
          "base_uri": "https://localhost:8080/"
        },
        "id": "kfmiarltumYC",
        "outputId": "0effcd28-467d-4231-9ca5-0ee23da5928c"
      },
      "outputs": [
        {
          "output_type": "stream",
          "name": "stdout",
          "text": [
            "Precision: 0.2326, Recall: 0.6979, MRR: 0.5608\n"
          ]
        }
      ],
      "source": [
        "# calculate precision, recall, mrr\n",
        "precision, recall, mrr = evaluate_retrieval(st_allmpnetbase_model, Retriever_st_allmpnetbase, train_df[['raw_para_id', 'question']])\n",
        "\n",
        "print(f\"Precision: {precision:.4f}, Recall: {recall:.4f}, MRR: {mrr:.4f}\")\n",
        "\n",
        "# record results\n",
        "new_row = pd.DataFrame({\n",
        "    'Embedding': [model_name],\n",
        "    'Precision': [precision],\n",
        "    'Recall': [recall],\n",
        "    'MRR': [mrr]\n",
        "})\n",
        "embeddings_metrics_df = pd.concat([embeddings_metrics_df, new_row], ignore_index=True)\n"
      ]
    },
    {
      "cell_type": "markdown",
      "metadata": {
        "id": "MU6SD4ZBcd10"
      },
      "source": [
        "### Eval sentence-transformers/all-MiniLM-L6-v2 Embedding\n",
        "\n",
        "https://huggingface.co/sentence-transformers/all-MiniLM-L6-v2\n",
        "\n",
        "Default embedding for ChromaDB https://docs.trychroma.com/guides/embeddings"
      ]
    },
    {
      "cell_type": "code",
      "execution_count": 16,
      "metadata": {
        "id": "fSfkPyqDcd11"
      },
      "outputs": [],
      "source": [
        "# import embeddings\n",
        "model_name = 'sentence-transformers/all-MiniLM-L6-v2'\n",
        "st_allMiniLML6_model = SentenceTransformer(model_name)\n",
        "\n",
        "raw_text_embeddings = [st_allMiniLML6_model.encode(text).tolist() for text in raw_text_list]"
      ]
    },
    {
      "cell_type": "code",
      "execution_count": 17,
      "metadata": {
        "id": "pHNBIOc5cd12"
      },
      "outputs": [],
      "source": [
        "# setup Chroma in-memory\n",
        "client = chromadb.Client()\n",
        "\n",
        "Retriever_st_allMiniLML6 = client.create_collection(\"knowledge-store-st_allMiniLML6\")\n",
        "# Add docs to the knowledge store\n",
        "Retriever_st_allMiniLML6.add(\n",
        "    embeddings = raw_text_embeddings,\n",
        "    documents = raw_text_list,\n",
        "    ids=raw_text_ids\n",
        ")"
      ]
    },
    {
      "cell_type": "code",
      "execution_count": 18,
      "metadata": {
        "colab": {
          "base_uri": "https://localhost:8080/"
        },
        "id": "SN0389fTuBo4",
        "outputId": "562e36c8-e591-4fa9-ca03-8b6f155e2707"
      },
      "outputs": [
        {
          "output_type": "stream",
          "name": "stdout",
          "text": [
            "Precision: 0.2396, Recall: 0.7188, MRR: 0.5625\n"
          ]
        }
      ],
      "source": [
        "# calculate precision, recall, mrr\n",
        "precision, recall, mrr = evaluate_retrieval(st_allMiniLML6_model, Retriever_st_allMiniLML6, train_df[['raw_para_id', 'question']])\n",
        "\n",
        "print(f\"Precision: {precision:.4f}, Recall: {recall:.4f}, MRR: {mrr:.4f}\")\n",
        "\n",
        "# record results\n",
        "new_row = pd.DataFrame({\n",
        "    'Embedding': [model_name],\n",
        "    'Precision': [precision],\n",
        "    'Recall': [recall],\n",
        "    'MRR': [mrr]\n",
        "})\n",
        "embeddings_metrics_df = pd.concat([embeddings_metrics_df, new_row], ignore_index=True)\n"
      ]
    },
    {
      "cell_type": "markdown",
      "metadata": {
        "id": "ewnU7zYfchBz"
      },
      "source": [
        "### Eval sentence-transformers/average_word_embeddings_glove.840B.300d Embedding\n",
        "\n",
        "https://huggingface.co/sentence-transformers/average_word_embeddings_glove.840B.300d"
      ]
    },
    {
      "cell_type": "code",
      "execution_count": 19,
      "metadata": {
        "id": "S5V3ruxRchB0"
      },
      "outputs": [],
      "source": [
        "# import embeddings\n",
        "model_name = 'sentence-transformers/average_word_embeddings_glove.840B.300d'\n",
        "st_embeddingsglove_model = SentenceTransformer(model_name)\n",
        "\n",
        "raw_text_embeddings = [st_embeddingsglove_model.encode(text).tolist() for text in raw_text_list]"
      ]
    },
    {
      "cell_type": "code",
      "execution_count": 20,
      "metadata": {
        "id": "MTRv74jZchB1"
      },
      "outputs": [],
      "source": [
        "# setup Chroma in-memory\n",
        "client = chromadb.Client()\n",
        "\n",
        "Retriever_st_embeddingsglove = client.create_collection(\"knowledge-store-st_embeddingsglove\")\n",
        "# Add docs to the knowledge store\n",
        "Retriever_st_embeddingsglove.add(\n",
        "    embeddings = raw_text_embeddings,\n",
        "    documents = raw_text_list,\n",
        "    ids=raw_text_ids\n",
        ")"
      ]
    },
    {
      "cell_type": "code",
      "execution_count": 21,
      "metadata": {
        "colab": {
          "base_uri": "https://localhost:8080/"
        },
        "id": "tPtw_P4ztZ4E",
        "outputId": "a1f52b98-0dc3-4907-8708-053e39920e8c"
      },
      "outputs": [
        {
          "output_type": "stream",
          "name": "stdout",
          "text": [
            "Precision: 0.1250, Recall: 0.3750, MRR: 0.2812\n"
          ]
        }
      ],
      "source": [
        "# calculate precision, recall, mrr\n",
        "precision, recall, mrr = evaluate_retrieval(st_embeddingsglove_model, Retriever_st_embeddingsglove, train_df[['raw_para_id', 'question']])\n",
        "\n",
        "print(f\"Precision: {precision:.4f}, Recall: {recall:.4f}, MRR: {mrr:.4f}\")\n",
        "\n",
        "# record results\n",
        "new_row = pd.DataFrame({\n",
        "    'Embedding': [model_name],\n",
        "    'Precision': [precision],\n",
        "    'Recall': [recall],\n",
        "    'MRR': [mrr]\n",
        "})\n",
        "embeddings_metrics_df = pd.concat([embeddings_metrics_df, new_row], ignore_index=True)\n"
      ]
    },
    {
      "cell_type": "markdown",
      "metadata": {
        "id": "_PKG4W2gckjs"
      },
      "source": [
        "### Eval sentence-transformers/multi-qa-mpnet-base-dot-v1 Embedding"
      ]
    },
    {
      "cell_type": "code",
      "execution_count": 22,
      "metadata": {
        "id": "oLF00xhwckjt"
      },
      "outputs": [],
      "source": [
        "# import embeddings\n",
        "model_name = 'sentence-transformers/multi-qa-mpnet-base-dot-v1'\n",
        "st_multiqampnetbasedot_model = SentenceTransformer(model_name)\n",
        "\n",
        "raw_text_embeddings = [st_multiqampnetbasedot_model.encode(text).tolist() for text in raw_text_list]"
      ]
    },
    {
      "cell_type": "code",
      "execution_count": 23,
      "metadata": {
        "id": "QHO1l-4zckjt"
      },
      "outputs": [],
      "source": [
        "# setup Chroma in-memory\n",
        "client = chromadb.Client()\n",
        "\n",
        "Retriever_st_multiqampnetbasedot = client.create_collection(\"knowledge-store-st_multiqampnetbasedot\")\n",
        "# Add docs to the knowledge store\n",
        "Retriever_st_multiqampnetbasedot.add(\n",
        "    embeddings = raw_text_embeddings,\n",
        "    documents = raw_text_list,\n",
        "    ids=raw_text_ids\n",
        ")"
      ]
    },
    {
      "cell_type": "code",
      "execution_count": 24,
      "metadata": {
        "colab": {
          "base_uri": "https://localhost:8080/"
        },
        "id": "tesDdEv0s9CK",
        "outputId": "05152cb7-141d-4e5c-d158-244cebb80842"
      },
      "outputs": [
        {
          "output_type": "stream",
          "name": "stdout",
          "text": [
            "Precision: 0.2188, Recall: 0.6562, MRR: 0.5503\n"
          ]
        }
      ],
      "source": [
        "# calculate precision, recall, mrr\n",
        "precision, recall, mrr = evaluate_retrieval(st_multiqampnetbasedot_model, Retriever_st_multiqampnetbasedot, train_df[['raw_para_id', 'question']])\n",
        "\n",
        "print(f\"Precision: {precision:.4f}, Recall: {recall:.4f}, MRR: {mrr:.4f}\")\n",
        "\n",
        "# record results\n",
        "new_row = pd.DataFrame({\n",
        "    'Embedding': [model_name],\n",
        "    'Precision': [precision],\n",
        "    'Recall': [recall],\n",
        "    'MRR': [mrr]\n",
        "})\n",
        "embeddings_metrics_df = pd.concat([embeddings_metrics_df, new_row], ignore_index=True)\n"
      ]
    },
    {
      "cell_type": "markdown",
      "metadata": {
        "id": "q-aq4GGfcmms"
      },
      "source": [
        "### Eval sentence-transformers/multi-qa-mpnet-base-cos-v1 Embedding"
      ]
    },
    {
      "cell_type": "code",
      "execution_count": 25,
      "metadata": {
        "id": "ndA7dgOHcmms"
      },
      "outputs": [],
      "source": [
        "# import embeddings\n",
        "model_name = 'sentence-transformers/multi-qa-mpnet-base-cos-v1'\n",
        "st_multiqampnetbasecos_model = SentenceTransformer(model_name)\n",
        "\n",
        "raw_text_embeddings = [st_multiqampnetbasecos_model.encode(text).tolist() for text in raw_text_list]"
      ]
    },
    {
      "cell_type": "code",
      "execution_count": 26,
      "metadata": {
        "id": "hJbewSFBcmmt"
      },
      "outputs": [],
      "source": [
        "# setup Chroma in-memory\n",
        "client = chromadb.Client()\n",
        "\n",
        "Retriever_st_multiqampnetbasecos = client.create_collection(\"knowledge-store-st_multiqampnetbasecos\")\n",
        "# Add docs to the knowledge store\n",
        "Retriever_st_multiqampnetbasecos.add(\n",
        "    embeddings = raw_text_embeddings,\n",
        "    documents = raw_text_list,\n",
        "    ids=raw_text_ids\n",
        ")"
      ]
    },
    {
      "cell_type": "code",
      "execution_count": 27,
      "metadata": {
        "colab": {
          "base_uri": "https://localhost:8080/"
        },
        "id": "UowzTJ8Rsj7O",
        "outputId": "90eeffd3-7d95-4ef9-df49-94ef462d356e"
      },
      "outputs": [
        {
          "output_type": "stream",
          "name": "stdout",
          "text": [
            "Precision: 0.2396, Recall: 0.7188, MRR: 0.5990\n"
          ]
        }
      ],
      "source": [
        "# calculate precision, recall, mrr\n",
        "precision, recall, mrr = evaluate_retrieval(st_multiqampnetbasecos_model, Retriever_st_multiqampnetbasecos, train_df[['raw_para_id', 'question']])\n",
        "\n",
        "print(f\"Precision: {precision:.4f}, Recall: {recall:.4f}, MRR: {mrr:.4f}\")\n",
        "\n",
        "# record results\n",
        "new_row = pd.DataFrame({\n",
        "    'Embedding': [model_name],\n",
        "    'Precision': [precision],\n",
        "    'Recall': [recall],\n",
        "    'MRR': [mrr]\n",
        "})\n",
        "embeddings_metrics_df = pd.concat([embeddings_metrics_df, new_row], ignore_index=True)\n"
      ]
    },
    {
      "cell_type": "markdown",
      "metadata": {
        "id": "jvtryfVocnlj"
      },
      "source": [
        "### Eval sentence-transformers/all-distilroberta-v1 Embedding"
      ]
    },
    {
      "cell_type": "code",
      "execution_count": 28,
      "metadata": {
        "id": "8zXqpucccnlk"
      },
      "outputs": [],
      "source": [
        "# import embeddings\n",
        "model_name = \"sentence-transformers/all-distilroberta-v1\"\n",
        "st_distilroberta_model = SentenceTransformer(model_name)\n",
        "\n",
        "raw_text_embeddings = [st_distilroberta_model.encode(text).tolist() for text in raw_text_list]"
      ]
    },
    {
      "cell_type": "code",
      "execution_count": 29,
      "metadata": {
        "id": "gsqkSXKMcnl4"
      },
      "outputs": [],
      "source": [
        "# setup Chroma in-memory\n",
        "client = chromadb.Client()\n",
        "\n",
        "Retriever_st_distilroberta = client.create_collection(\"knowledge-store-st_distilroberta\")\n",
        "# Add docs to the knowledge store\n",
        "Retriever_st_distilroberta.add(\n",
        "    embeddings = raw_text_embeddings,\n",
        "    documents = raw_text_list,\n",
        "    ids=raw_text_ids\n",
        ")"
      ]
    },
    {
      "cell_type": "code",
      "execution_count": 30,
      "metadata": {
        "colab": {
          "base_uri": "https://localhost:8080/"
        },
        "id": "ESKUKJ29qa3B",
        "outputId": "0782e8d0-96fb-4af9-cd04-ae398bed4f37"
      },
      "outputs": [
        {
          "output_type": "stream",
          "name": "stdout",
          "text": [
            "Precision: 0.2361, Recall: 0.7083, MRR: 0.5382\n"
          ]
        }
      ],
      "source": [
        "# calculate precision, recall, mrr\n",
        "precision, recall, mrr = evaluate_retrieval(st_distilroberta_model, Retriever_st_distilroberta, train_df[['raw_para_id', 'question']])\n",
        "\n",
        "print(f\"Precision: {precision:.4f}, Recall: {recall:.4f}, MRR: {mrr:.4f}\")\n",
        "\n",
        "# record results\n",
        "new_row = pd.DataFrame({\n",
        "    'Embedding': [model_name],\n",
        "    'Precision': [precision],\n",
        "    'Recall': [recall],\n",
        "    'MRR': [mrr]\n",
        "})\n",
        "embeddings_metrics_df = pd.concat([embeddings_metrics_df, new_row], ignore_index=True)\n"
      ]
    },
    {
      "cell_type": "code",
      "execution_count": 30,
      "metadata": {
        "id": "KhiHTEUM0tWA"
      },
      "outputs": [],
      "source": []
    },
    {
      "cell_type": "markdown",
      "metadata": {
        "id": "FFrzuRfR0twy"
      },
      "source": [
        "### Eval colbert-ir/colbertv2.0 Embedding\n",
        "\n",
        "https://huggingface.co/colbert-ir/colbertv2.0\n",
        "\n",
        "Default embedding for RAGatouille https://github.com/bclavie/RAGatouille"
      ]
    },
    {
      "cell_type": "code",
      "execution_count": 31,
      "metadata": {
        "colab": {
          "base_uri": "https://localhost:8080/"
        },
        "id": "QKATLuYP0twz",
        "outputId": "86eaee7e-b3dc-4ec0-f4b4-a463b76f7dad"
      },
      "outputs": [
        {
          "output_type": "stream",
          "name": "stderr",
          "text": [
            "WARNING:sentence_transformers.SentenceTransformer:No sentence-transformers model found with name colbert-ir/colbertv2.0. Creating a new one with mean pooling.\n"
          ]
        }
      ],
      "source": [
        "# import embeddings\n",
        "model_name = \"colbert-ir/colbertv2.0\"\n",
        "colbertv2_model = SentenceTransformer(model_name)\n",
        "\n",
        "raw_text_embeddings = [colbertv2_model.encode(text).tolist() for text in raw_text_list]"
      ]
    },
    {
      "cell_type": "code",
      "execution_count": 32,
      "metadata": {
        "id": "Gh1kzoPs0tw0"
      },
      "outputs": [],
      "source": [
        "# setup Chroma in-memory\n",
        "client = chromadb.Client()\n",
        "\n",
        "Retriever_colbertv2 = client.create_collection(\"knowledge-store-colbertv2\")\n",
        "# Add docs to the knowledge store\n",
        "Retriever_colbertv2.add(\n",
        "    embeddings = raw_text_embeddings,\n",
        "    documents = raw_text_list,\n",
        "    ids=raw_text_ids\n",
        ")"
      ]
    },
    {
      "cell_type": "code",
      "execution_count": 33,
      "metadata": {
        "colab": {
          "base_uri": "https://localhost:8080/"
        },
        "id": "hh8x1sZi0tw1",
        "outputId": "7209f2b8-9cd5-404f-f336-3679e4caa6c4"
      },
      "outputs": [
        {
          "output_type": "stream",
          "name": "stdout",
          "text": [
            "Precision: 0.2500, Recall: 0.7500, MRR: 0.5573\n"
          ]
        }
      ],
      "source": [
        "# calculate precision, recall, mrr\n",
        "precision, recall, mrr = evaluate_retrieval(colbertv2_model, Retriever_colbertv2, train_df[['raw_para_id', 'question']])\n",
        "\n",
        "print(f\"Precision: {precision:.4f}, Recall: {recall:.4f}, MRR: {mrr:.4f}\")\n",
        "\n",
        "# record results\n",
        "new_row = pd.DataFrame({\n",
        "    'Embedding': [model_name],\n",
        "    'Precision': [precision],\n",
        "    'Recall': [recall],\n",
        "    'MRR': [mrr]\n",
        "})\n",
        "embeddings_metrics_df = pd.concat([embeddings_metrics_df, new_row], ignore_index=True)\n"
      ]
    },
    {
      "cell_type": "markdown",
      "metadata": {
        "id": "BZ5P1NlRIL4x"
      },
      "source": [
        "### Compare different embeddings based on Precision, Recall, MRR"
      ]
    },
    {
      "cell_type": "code",
      "execution_count": 34,
      "metadata": {
        "colab": {
          "base_uri": "https://localhost:8080/",
          "height": 300
        },
        "id": "Adkyf6gbvFaP",
        "outputId": "b7c24a32-b9ee-4a2a-e2e7-251ec553e62a"
      },
      "outputs": [
        {
          "output_type": "execute_result",
          "data": {
            "text/plain": [
              "                                           Embedding  Precision    Recall  \\\n",
              "0                                               BM25   0.045139  0.135417   \n",
              "1            sentence-transformers/all-mpnet-base-v2   0.232639  0.697917   \n",
              "2             sentence-transformers/all-MiniLM-L6-v2   0.239583  0.718750   \n",
              "3  sentence-transformers/average_word_embeddings_...   0.125000  0.375000   \n",
              "4   sentence-transformers/multi-qa-mpnet-base-dot-v1   0.218750  0.656250   \n",
              "5   sentence-transformers/multi-qa-mpnet-base-cos-v1   0.239583  0.718750   \n",
              "6         sentence-transformers/all-distilroberta-v1   0.236111  0.708333   \n",
              "7                             colbert-ir/colbertv2.0   0.250000  0.750000   \n",
              "\n",
              "        MRR  \n",
              "0  0.079861  \n",
              "1  0.560764  \n",
              "2  0.562500  \n",
              "3  0.281250  \n",
              "4  0.550347  \n",
              "5  0.598958  \n",
              "6  0.538194  \n",
              "7  0.557292  "
            ],
            "text/html": [
              "\n",
              "  <div id=\"df-8f7f1f50-1954-4c86-a33e-ffe39e841a91\" class=\"colab-df-container\">\n",
              "    <div>\n",
              "<style scoped>\n",
              "    .dataframe tbody tr th:only-of-type {\n",
              "        vertical-align: middle;\n",
              "    }\n",
              "\n",
              "    .dataframe tbody tr th {\n",
              "        vertical-align: top;\n",
              "    }\n",
              "\n",
              "    .dataframe thead th {\n",
              "        text-align: right;\n",
              "    }\n",
              "</style>\n",
              "<table border=\"1\" class=\"dataframe\">\n",
              "  <thead>\n",
              "    <tr style=\"text-align: right;\">\n",
              "      <th></th>\n",
              "      <th>Embedding</th>\n",
              "      <th>Precision</th>\n",
              "      <th>Recall</th>\n",
              "      <th>MRR</th>\n",
              "    </tr>\n",
              "  </thead>\n",
              "  <tbody>\n",
              "    <tr>\n",
              "      <th>0</th>\n",
              "      <td>BM25</td>\n",
              "      <td>0.045139</td>\n",
              "      <td>0.135417</td>\n",
              "      <td>0.079861</td>\n",
              "    </tr>\n",
              "    <tr>\n",
              "      <th>1</th>\n",
              "      <td>sentence-transformers/all-mpnet-base-v2</td>\n",
              "      <td>0.232639</td>\n",
              "      <td>0.697917</td>\n",
              "      <td>0.560764</td>\n",
              "    </tr>\n",
              "    <tr>\n",
              "      <th>2</th>\n",
              "      <td>sentence-transformers/all-MiniLM-L6-v2</td>\n",
              "      <td>0.239583</td>\n",
              "      <td>0.718750</td>\n",
              "      <td>0.562500</td>\n",
              "    </tr>\n",
              "    <tr>\n",
              "      <th>3</th>\n",
              "      <td>sentence-transformers/average_word_embeddings_...</td>\n",
              "      <td>0.125000</td>\n",
              "      <td>0.375000</td>\n",
              "      <td>0.281250</td>\n",
              "    </tr>\n",
              "    <tr>\n",
              "      <th>4</th>\n",
              "      <td>sentence-transformers/multi-qa-mpnet-base-dot-v1</td>\n",
              "      <td>0.218750</td>\n",
              "      <td>0.656250</td>\n",
              "      <td>0.550347</td>\n",
              "    </tr>\n",
              "    <tr>\n",
              "      <th>5</th>\n",
              "      <td>sentence-transformers/multi-qa-mpnet-base-cos-v1</td>\n",
              "      <td>0.239583</td>\n",
              "      <td>0.718750</td>\n",
              "      <td>0.598958</td>\n",
              "    </tr>\n",
              "    <tr>\n",
              "      <th>6</th>\n",
              "      <td>sentence-transformers/all-distilroberta-v1</td>\n",
              "      <td>0.236111</td>\n",
              "      <td>0.708333</td>\n",
              "      <td>0.538194</td>\n",
              "    </tr>\n",
              "    <tr>\n",
              "      <th>7</th>\n",
              "      <td>colbert-ir/colbertv2.0</td>\n",
              "      <td>0.250000</td>\n",
              "      <td>0.750000</td>\n",
              "      <td>0.557292</td>\n",
              "    </tr>\n",
              "  </tbody>\n",
              "</table>\n",
              "</div>\n",
              "    <div class=\"colab-df-buttons\">\n",
              "\n",
              "  <div class=\"colab-df-container\">\n",
              "    <button class=\"colab-df-convert\" onclick=\"convertToInteractive('df-8f7f1f50-1954-4c86-a33e-ffe39e841a91')\"\n",
              "            title=\"Convert this dataframe to an interactive table.\"\n",
              "            style=\"display:none;\">\n",
              "\n",
              "  <svg xmlns=\"http://www.w3.org/2000/svg\" height=\"24px\" viewBox=\"0 -960 960 960\">\n",
              "    <path d=\"M120-120v-720h720v720H120Zm60-500h600v-160H180v160Zm220 220h160v-160H400v160Zm0 220h160v-160H400v160ZM180-400h160v-160H180v160Zm440 0h160v-160H620v160ZM180-180h160v-160H180v160Zm440 0h160v-160H620v160Z\"/>\n",
              "  </svg>\n",
              "    </button>\n",
              "\n",
              "  <style>\n",
              "    .colab-df-container {\n",
              "      display:flex;\n",
              "      gap: 12px;\n",
              "    }\n",
              "\n",
              "    .colab-df-convert {\n",
              "      background-color: #E8F0FE;\n",
              "      border: none;\n",
              "      border-radius: 50%;\n",
              "      cursor: pointer;\n",
              "      display: none;\n",
              "      fill: #1967D2;\n",
              "      height: 32px;\n",
              "      padding: 0 0 0 0;\n",
              "      width: 32px;\n",
              "    }\n",
              "\n",
              "    .colab-df-convert:hover {\n",
              "      background-color: #E2EBFA;\n",
              "      box-shadow: 0px 1px 2px rgba(60, 64, 67, 0.3), 0px 1px 3px 1px rgba(60, 64, 67, 0.15);\n",
              "      fill: #174EA6;\n",
              "    }\n",
              "\n",
              "    .colab-df-buttons div {\n",
              "      margin-bottom: 4px;\n",
              "    }\n",
              "\n",
              "    [theme=dark] .colab-df-convert {\n",
              "      background-color: #3B4455;\n",
              "      fill: #D2E3FC;\n",
              "    }\n",
              "\n",
              "    [theme=dark] .colab-df-convert:hover {\n",
              "      background-color: #434B5C;\n",
              "      box-shadow: 0px 1px 3px 1px rgba(0, 0, 0, 0.15);\n",
              "      filter: drop-shadow(0px 1px 2px rgba(0, 0, 0, 0.3));\n",
              "      fill: #FFFFFF;\n",
              "    }\n",
              "  </style>\n",
              "\n",
              "    <script>\n",
              "      const buttonEl =\n",
              "        document.querySelector('#df-8f7f1f50-1954-4c86-a33e-ffe39e841a91 button.colab-df-convert');\n",
              "      buttonEl.style.display =\n",
              "        google.colab.kernel.accessAllowed ? 'block' : 'none';\n",
              "\n",
              "      async function convertToInteractive(key) {\n",
              "        const element = document.querySelector('#df-8f7f1f50-1954-4c86-a33e-ffe39e841a91');\n",
              "        const dataTable =\n",
              "          await google.colab.kernel.invokeFunction('convertToInteractive',\n",
              "                                                    [key], {});\n",
              "        if (!dataTable) return;\n",
              "\n",
              "        const docLinkHtml = 'Like what you see? Visit the ' +\n",
              "          '<a target=\"_blank\" href=https://colab.research.google.com/notebooks/data_table.ipynb>data table notebook</a>'\n",
              "          + ' to learn more about interactive tables.';\n",
              "        element.innerHTML = '';\n",
              "        dataTable['output_type'] = 'display_data';\n",
              "        await google.colab.output.renderOutput(dataTable, element);\n",
              "        const docLink = document.createElement('div');\n",
              "        docLink.innerHTML = docLinkHtml;\n",
              "        element.appendChild(docLink);\n",
              "      }\n",
              "    </script>\n",
              "  </div>\n",
              "\n",
              "\n",
              "<div id=\"df-411303c4-515d-4c25-944e-4de41c1bb6af\">\n",
              "  <button class=\"colab-df-quickchart\" onclick=\"quickchart('df-411303c4-515d-4c25-944e-4de41c1bb6af')\"\n",
              "            title=\"Suggest charts\"\n",
              "            style=\"display:none;\">\n",
              "\n",
              "<svg xmlns=\"http://www.w3.org/2000/svg\" height=\"24px\"viewBox=\"0 0 24 24\"\n",
              "     width=\"24px\">\n",
              "    <g>\n",
              "        <path d=\"M19 3H5c-1.1 0-2 .9-2 2v14c0 1.1.9 2 2 2h14c1.1 0 2-.9 2-2V5c0-1.1-.9-2-2-2zM9 17H7v-7h2v7zm4 0h-2V7h2v10zm4 0h-2v-4h2v4z\"/>\n",
              "    </g>\n",
              "</svg>\n",
              "  </button>\n",
              "\n",
              "<style>\n",
              "  .colab-df-quickchart {\n",
              "      --bg-color: #E8F0FE;\n",
              "      --fill-color: #1967D2;\n",
              "      --hover-bg-color: #E2EBFA;\n",
              "      --hover-fill-color: #174EA6;\n",
              "      --disabled-fill-color: #AAA;\n",
              "      --disabled-bg-color: #DDD;\n",
              "  }\n",
              "\n",
              "  [theme=dark] .colab-df-quickchart {\n",
              "      --bg-color: #3B4455;\n",
              "      --fill-color: #D2E3FC;\n",
              "      --hover-bg-color: #434B5C;\n",
              "      --hover-fill-color: #FFFFFF;\n",
              "      --disabled-bg-color: #3B4455;\n",
              "      --disabled-fill-color: #666;\n",
              "  }\n",
              "\n",
              "  .colab-df-quickchart {\n",
              "    background-color: var(--bg-color);\n",
              "    border: none;\n",
              "    border-radius: 50%;\n",
              "    cursor: pointer;\n",
              "    display: none;\n",
              "    fill: var(--fill-color);\n",
              "    height: 32px;\n",
              "    padding: 0;\n",
              "    width: 32px;\n",
              "  }\n",
              "\n",
              "  .colab-df-quickchart:hover {\n",
              "    background-color: var(--hover-bg-color);\n",
              "    box-shadow: 0 1px 2px rgba(60, 64, 67, 0.3), 0 1px 3px 1px rgba(60, 64, 67, 0.15);\n",
              "    fill: var(--button-hover-fill-color);\n",
              "  }\n",
              "\n",
              "  .colab-df-quickchart-complete:disabled,\n",
              "  .colab-df-quickchart-complete:disabled:hover {\n",
              "    background-color: var(--disabled-bg-color);\n",
              "    fill: var(--disabled-fill-color);\n",
              "    box-shadow: none;\n",
              "  }\n",
              "\n",
              "  .colab-df-spinner {\n",
              "    border: 2px solid var(--fill-color);\n",
              "    border-color: transparent;\n",
              "    border-bottom-color: var(--fill-color);\n",
              "    animation:\n",
              "      spin 1s steps(1) infinite;\n",
              "  }\n",
              "\n",
              "  @keyframes spin {\n",
              "    0% {\n",
              "      border-color: transparent;\n",
              "      border-bottom-color: var(--fill-color);\n",
              "      border-left-color: var(--fill-color);\n",
              "    }\n",
              "    20% {\n",
              "      border-color: transparent;\n",
              "      border-left-color: var(--fill-color);\n",
              "      border-top-color: var(--fill-color);\n",
              "    }\n",
              "    30% {\n",
              "      border-color: transparent;\n",
              "      border-left-color: var(--fill-color);\n",
              "      border-top-color: var(--fill-color);\n",
              "      border-right-color: var(--fill-color);\n",
              "    }\n",
              "    40% {\n",
              "      border-color: transparent;\n",
              "      border-right-color: var(--fill-color);\n",
              "      border-top-color: var(--fill-color);\n",
              "    }\n",
              "    60% {\n",
              "      border-color: transparent;\n",
              "      border-right-color: var(--fill-color);\n",
              "    }\n",
              "    80% {\n",
              "      border-color: transparent;\n",
              "      border-right-color: var(--fill-color);\n",
              "      border-bottom-color: var(--fill-color);\n",
              "    }\n",
              "    90% {\n",
              "      border-color: transparent;\n",
              "      border-bottom-color: var(--fill-color);\n",
              "    }\n",
              "  }\n",
              "</style>\n",
              "\n",
              "  <script>\n",
              "    async function quickchart(key) {\n",
              "      const quickchartButtonEl =\n",
              "        document.querySelector('#' + key + ' button');\n",
              "      quickchartButtonEl.disabled = true;  // To prevent multiple clicks.\n",
              "      quickchartButtonEl.classList.add('colab-df-spinner');\n",
              "      try {\n",
              "        const charts = await google.colab.kernel.invokeFunction(\n",
              "            'suggestCharts', [key], {});\n",
              "      } catch (error) {\n",
              "        console.error('Error during call to suggestCharts:', error);\n",
              "      }\n",
              "      quickchartButtonEl.classList.remove('colab-df-spinner');\n",
              "      quickchartButtonEl.classList.add('colab-df-quickchart-complete');\n",
              "    }\n",
              "    (() => {\n",
              "      let quickchartButtonEl =\n",
              "        document.querySelector('#df-411303c4-515d-4c25-944e-4de41c1bb6af button');\n",
              "      quickchartButtonEl.style.display =\n",
              "        google.colab.kernel.accessAllowed ? 'block' : 'none';\n",
              "    })();\n",
              "  </script>\n",
              "</div>\n",
              "\n",
              "  <div id=\"id_ecbb7b7c-5d04-48c0-b913-66f900c767f7\">\n",
              "    <style>\n",
              "      .colab-df-generate {\n",
              "        background-color: #E8F0FE;\n",
              "        border: none;\n",
              "        border-radius: 50%;\n",
              "        cursor: pointer;\n",
              "        display: none;\n",
              "        fill: #1967D2;\n",
              "        height: 32px;\n",
              "        padding: 0 0 0 0;\n",
              "        width: 32px;\n",
              "      }\n",
              "\n",
              "      .colab-df-generate:hover {\n",
              "        background-color: #E2EBFA;\n",
              "        box-shadow: 0px 1px 2px rgba(60, 64, 67, 0.3), 0px 1px 3px 1px rgba(60, 64, 67, 0.15);\n",
              "        fill: #174EA6;\n",
              "      }\n",
              "\n",
              "      [theme=dark] .colab-df-generate {\n",
              "        background-color: #3B4455;\n",
              "        fill: #D2E3FC;\n",
              "      }\n",
              "\n",
              "      [theme=dark] .colab-df-generate:hover {\n",
              "        background-color: #434B5C;\n",
              "        box-shadow: 0px 1px 3px 1px rgba(0, 0, 0, 0.15);\n",
              "        filter: drop-shadow(0px 1px 2px rgba(0, 0, 0, 0.3));\n",
              "        fill: #FFFFFF;\n",
              "      }\n",
              "    </style>\n",
              "    <button class=\"colab-df-generate\" onclick=\"generateWithVariable('embeddings_metrics_df')\"\n",
              "            title=\"Generate code using this dataframe.\"\n",
              "            style=\"display:none;\">\n",
              "\n",
              "  <svg xmlns=\"http://www.w3.org/2000/svg\" height=\"24px\"viewBox=\"0 0 24 24\"\n",
              "       width=\"24px\">\n",
              "    <path d=\"M7,19H8.4L18.45,9,17,7.55,7,17.6ZM5,21V16.75L18.45,3.32a2,2,0,0,1,2.83,0l1.4,1.43a1.91,1.91,0,0,1,.58,1.4,1.91,1.91,0,0,1-.58,1.4L9.25,21ZM18.45,9,17,7.55Zm-12,3A5.31,5.31,0,0,0,4.9,8.1,5.31,5.31,0,0,0,1,6.5,5.31,5.31,0,0,0,4.9,4.9,5.31,5.31,0,0,0,6.5,1,5.31,5.31,0,0,0,8.1,4.9,5.31,5.31,0,0,0,12,6.5,5.46,5.46,0,0,0,6.5,12Z\"/>\n",
              "  </svg>\n",
              "    </button>\n",
              "    <script>\n",
              "      (() => {\n",
              "      const buttonEl =\n",
              "        document.querySelector('#id_ecbb7b7c-5d04-48c0-b913-66f900c767f7 button.colab-df-generate');\n",
              "      buttonEl.style.display =\n",
              "        google.colab.kernel.accessAllowed ? 'block' : 'none';\n",
              "\n",
              "      buttonEl.onclick = () => {\n",
              "        google.colab.notebook.generateWithVariable('embeddings_metrics_df');\n",
              "      }\n",
              "      })();\n",
              "    </script>\n",
              "  </div>\n",
              "\n",
              "    </div>\n",
              "  </div>\n"
            ],
            "application/vnd.google.colaboratory.intrinsic+json": {
              "type": "dataframe",
              "variable_name": "embeddings_metrics_df",
              "summary": "{\n  \"name\": \"embeddings_metrics_df\",\n  \"rows\": 8,\n  \"fields\": [\n    {\n      \"column\": \"Embedding\",\n      \"properties\": {\n        \"dtype\": \"string\",\n        \"num_unique_values\": 8,\n        \"samples\": [\n          \"sentence-transformers/all-mpnet-base-v2\",\n          \"sentence-transformers/multi-qa-mpnet-base-cos-v1\",\n          \"BM25\"\n        ],\n        \"semantic_type\": \"\",\n        \"description\": \"\"\n      }\n    },\n    {\n      \"column\": \"Precision\",\n      \"properties\": {\n        \"dtype\": \"number\",\n        \"std\": 0.07362041111886898,\n        \"min\": 0.04513888888888889,\n        \"max\": 0.25,\n        \"num_unique_values\": 7,\n        \"samples\": [\n          0.04513888888888889,\n          0.23263888888888887,\n          0.23611111111111108\n        ],\n        \"semantic_type\": \"\",\n        \"description\": \"\"\n      }\n    },\n    {\n      \"column\": \"Recall\",\n      \"properties\": {\n        \"dtype\": \"number\",\n        \"std\": 0.22086123335660696,\n        \"min\": 0.13541666666666666,\n        \"max\": 0.75,\n        \"num_unique_values\": 7,\n        \"samples\": [\n          0.13541666666666666,\n          0.6979166666666666,\n          0.7083333333333334\n        ],\n        \"semantic_type\": \"\",\n        \"description\": \"\"\n      }\n    },\n    {\n      \"column\": \"MRR\",\n      \"properties\": {\n        \"dtype\": \"number\",\n        \"std\": 0.185112574637167,\n        \"min\": 0.0798611111111111,\n        \"max\": 0.5989583333333334,\n        \"num_unique_values\": 8,\n        \"samples\": [\n          0.5607638888888888,\n          0.5989583333333334,\n          0.0798611111111111\n        ],\n        \"semantic_type\": \"\",\n        \"description\": \"\"\n      }\n    }\n  ]\n}"
            }
          },
          "metadata": {},
          "execution_count": 34
        }
      ],
      "source": [
        "embeddings_metrics_df"
      ]
    },
    {
      "cell_type": "code",
      "execution_count": 35,
      "metadata": {
        "id": "9rrYOrHVvFf9",
        "colab": {
          "base_uri": "https://localhost:8080/",
          "height": 907
        },
        "outputId": "9795af86-f49c-4e2b-ba22-ac189615a3f1"
      },
      "outputs": [
        {
          "output_type": "display_data",
          "data": {
            "text/plain": [
              "<Figure size 1200x900 with 1 Axes>"
            ],
            "image/png": "[encoded data removed]"
          },
          "metadata": {}
        }
      ],
      "source": [
        "# melt df to plot Precision, Recall, MRR\n",
        "melted_df = embeddings_metrics_df.melt(id_vars='Embedding', var_name='Metric', value_name='Value')\n",
        "\n",
        "# Plot\n",
        "plt.figure(figsize=(12, 9))\n",
        "sns.barplot(data=melted_df, x='Embedding', y='Value', hue='Metric')\n",
        "plt.title('Comparison of Metrics across different Embedding Models')\n",
        "plt.xticks(rotation=45, ha='right')\n",
        "plt.xlabel('Embedding Models')\n",
        "plt.ylabel('Metric score')\n",
        "plt.ylim(0.0, 1.5)\n",
        "plt.legend(title='Metrics')\n",
        "plt.tight_layout()\n",
        "plt.show()"
      ]
    }
  ],
  "metadata": {
    "colab": {
      "collapsed_sections": [
        "do60TanbFQaw",
        "OfYI3ZBl-TQo",
        "MU6SD4ZBcd10",
        "ewnU7zYfchBz",
        "_PKG4W2gckjs",
        "q-aq4GGfcmms",
        "jvtryfVocnlj",
        "FFrzuRfR0twy"
      ],
      "provenance": []
    },
    "kernelspec": {
      "display_name": "Python 3",
      "name": "python3"
    },
    "language_info": {
      "name": "python"
    }
  },
  "nbformat": 4,
  "nbformat_minor": 0
}